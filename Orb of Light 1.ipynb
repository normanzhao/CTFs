{
 "cells": [
  {
   "cell_type": "code",
   "execution_count": 1,
   "metadata": {
    "collapsed": false,
    "scrolled": false
   },
   "outputs": [],
   "source": [
    "secret = '''gh2AtAht hS zRfghLz ftg otozofE WRAtTz\n",
    "\n",
    "\"WhdAa gh2fAt hS gf9G AEEozAht\n",
    "Eftg WRfW zR9hogz EhfWRAtT EATRW\n",
    "lhotgf9Z hS Lh9Egz otGthLt\"\n",
    "\n",
    "Eftg hS zRfghLz, f WLAEATRW gh2fAt WRfW Az f gf9G 2A99h9, h9 ahiZ, hS ho9 Lh9Eg. f ihAtW hS lEATRW ftg ah99hzAht, \n",
    "f gh2fAt hoW hS zZta, f Eftg LAWR Rh99h9z 9ATRW lZ Zho ftg Zho ght’W GthL.\n",
    "\n",
    "f9WAzftz hS f WRfo2fWo9TAafE GAtg gh thW ozofEEZ a9hzz AtWh Eftgz hS zRfghL Sh9 At zoaR gh2fAtz ft otGthLt Rh99h9 Az zfAg Wh Eo9G. \n",
    "f99ArfE fELfZz l9AtTz flhoW gAzzhEoWAht hS fziA9fWAhtz Sh9 zRfghLz noAaGEZ zLfEEhL zhoEz hS EATRW At f 2ZzWAa A2ihzzAlAEAWZ.  \n",
    "f zhEAWf9Z foTo9Z Lfz i9hhS: GAtTgh2z LAEE SfEE fz ahtNo9fWAht hS zRfghL TEhh2z 2AggfZ LAWR gf9G 2fEAaAhoz ShT, \n",
    "f Eo2Athoz aRf92 LAEE afzW f 9fZ WRfW fTfAt fEATtz ho9 Lh9Eg.\n",
    "\n",
    "'''"
   ]
  },
  {
   "cell_type": "code",
   "execution_count": 2,
   "metadata": {
    "collapsed": false
   },
   "outputs": [
    {
     "name": "stdout",
     "output_type": "stream",
     "text": [
      "2 15\n",
      "9 39\n",
      ": 1\n",
      "A 54\n",
      "E 38\n",
      "G 10\n",
      "L 20\n",
      "N 1\n",
      "R 23\n",
      "S 17\n",
      "T 15\n",
      "W 34\n",
      "Z 15\n",
      "a 13\n",
      "d 1\n",
      "f 65\n",
      "g 33\n",
      "h 76\n",
      "i 5\n",
      "l 6\n",
      "n 1\n",
      "o 29\n",
      "r 1\n",
      "t 45\n",
      "z 49\n"
     ]
    }
   ],
   "source": [
    "#amount of instances of each letter or number\n",
    "for x in range(48,123):\n",
    "    if secret.count(chr(x)) != 0:\n",
    "        print chr(x), secret.count(chr(x))"
   ]
  },
  {
   "cell_type": "code",
   "execution_count": 3,
   "metadata": {
    "collapsed": true
   },
   "outputs": [],
   "source": [
    "#f=a based on position of letter\n",
    "#hS is probably 'of' because its the most common 2 letter\n",
    "#z might be s because of how often it appears in the end\n",
    "#ftg might be and because of frequency and f is a\n",
    "#E is probably l because there are a lot of EE(lls) and Eftg=Eand, where E has to make sense, it can be s, but l to make it land seems more likely\n",
    "#W=t because of apostrophe (don'_)\n",
    "#sRadoLs is s_ado_s, only word that fits is shadows\"land of shadow\", a phrase!\n",
    "#wo9ld is wo_ld,9 is probably r\n",
    "#onosoal is _n_s_al where they're all the same letters, probably a vowel, most likely u so its unusual\n",
    "#loundarZ of worlds unGnown is _oundar_ of worlds un_nown, seems like its boundary of worlds unknown, so l=b,Z=y and G=k\n",
    "#domAnAon and domaAn  are similar, one is dom_n_on and dom_on, with o in all the spots, making it likely that A=i \n",
    "#aorrosion or _orrosion has to be corrosion, so a=c\n",
    "#thinTs or thin_s, probably things because of sentence, so T=g\n",
    "#ioint or _oint, probably point, i=p\n",
    "#arriral or arri_al is probably arrival so r=v\n",
    "#nuickly or _uickly is quickly, so n=q\n",
    "#todic is to_ic, can be toric, tonic or toxic, but r and n are solved, so d=x\n",
    "#conNuration is con_uration, probably conjuration as it fits with theme, so N=j"
   ]
  },
  {
   "cell_type": "code",
   "execution_count": 4,
   "metadata": {
    "collapsed": false
   },
   "outputs": [
    {
     "name": "stdout",
     "output_type": "stream",
     "text": [
      "dominion of shadows and unusual things\n",
      "\n",
      "\"toxic domain of dark illusion\n",
      "land that shrouds loathing light\n",
      "boundary of worlds unknown\"\n",
      "\n",
      "land of shadows, a twilight domain that is a dark mirror, or copy, of our world. a point of blight and corrosion, \n",
      "a domain out of sync, a land with horrors right by you and you don’t know.\n",
      "\n",
      "artisans of a thaumaturgical kind do not usually cross into lands of shadow for in such domains an unknown horror is said to lurk. \n",
      "arrival always brings about dissolution of aspirations for shadows quickly swallow souls of light in a mystic impossibility.  \n",
      "a solitary augury was proof: kingdoms will fall as conjuration of shadow glooms midday with dark malicious fog, \n",
      "a luminous charm will cast a ray that again aligns our world.\n",
      "\n",
      "\n"
     ]
    }
   ],
   "source": [
    "replacers = {\"f\":\"a\", \"h\":\"o\",\"S\":\"f\", \"z\":\"s\", \"t\":\"n\", \"g\":\"d\", \"E\":\"l\",\"W\":\"t\", \"R\":\"h\",\"L\":\"w\", \"9\":\"r\", \"o\":\"u\",\\\n",
    "            \"l\":\"b\",\"Z\":\"y\",\"G\":\"k\", \"2\":\"m\", \"A\":\"i\", \"a\":\"c\", \"T\":\"g\", \"i\":\"p\", \"r\":\"v\", \"n\":\"q\", \"d\":\"x\", \"N\":\"j\"\n",
    "            }\n",
    "#decode\n",
    "new_message = \"\"\"\"\"\"\n",
    "for letter in secret:\n",
    "    if letter in replacers.keys():\n",
    "        letter = replacers[letter]\n",
    "    new_message += letter\n",
    "print new_message"
   ]
  },
  {
   "cell_type": "code",
   "execution_count": 5,
   "metadata": {
    "collapsed": false
   },
   "outputs": [
    {
     "name": "stdout",
     "output_type": "stream",
     "text": [
      "flagSTRANGE2thin9zWorLdZ\n"
     ]
    }
   ],
   "source": [
    "#reverse the dictionary\n",
    "rev = {v:k for k, v in replacers.iteritems()}\n",
    "flag = \"\"\n",
    "for key in sorted(rev.keys()):\n",
    "    flag += rev[key]\n",
    "print flag"
   ]
  }
 ],
 "metadata": {
  "kernelspec": {
   "display_name": "Python 2",
   "language": "python",
   "name": "python2"
  },
  "language_info": {
   "codemirror_mode": {
    "name": "ipython",
    "version": 2
   },
   "file_extension": ".py",
   "mimetype": "text/x-python",
   "name": "python",
   "nbconvert_exporter": "python",
   "pygments_lexer": "ipython2",
   "version": "2.7.12"
  }
 },
 "nbformat": 4,
 "nbformat_minor": 0
}
